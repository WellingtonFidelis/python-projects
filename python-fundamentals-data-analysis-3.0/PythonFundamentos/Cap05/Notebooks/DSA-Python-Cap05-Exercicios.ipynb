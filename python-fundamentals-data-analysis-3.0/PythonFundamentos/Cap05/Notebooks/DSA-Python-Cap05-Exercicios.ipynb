{
 "cells": [
  {
   "cell_type": "markdown",
   "metadata": {},
   "source": [
    "# <font color='blue'>Data Science Academy - Python Fundamentos - Capítulo 5</font>\n",
    "\n",
    "## Download: http://github.com/dsacademybr"
   ]
  },
  {
   "cell_type": "code",
   "execution_count": 1,
   "metadata": {},
   "outputs": [
    {
     "name": "stdout",
     "output_type": "stream",
     "text": [
      "Versão da Linguagem Python Usada Neste Jupyter Notebook: 3.8.8\n"
     ]
    }
   ],
   "source": [
    "# Versão da Linguagem Python\n",
    "from platform import python_version\n",
    "print('Versão da Linguagem Python Usada Neste Jupyter Notebook:', python_version())"
   ]
  },
  {
   "cell_type": "markdown",
   "metadata": {},
   "source": [
    "## Exercícios"
   ]
  },
  {
   "cell_type": "code",
   "execution_count": 13,
   "metadata": {},
   "outputs": [
    {
     "name": "stdout",
     "output_type": "stream",
     "text": [
      "0 0\n",
      "10 15\n",
      "<__main__.Rocket object at 0x7fccdbbcd5e0>\n"
     ]
    }
   ],
   "source": [
    "# Exercício 1 - Crie um objeto a partir da classe abaixo, chamado roc1, passando 2 parâmetros e depois faça uma chamada\n",
    "# aos atributos e métodos\n",
    "from math import sqrt\n",
    "\n",
    "class Rocket():\n",
    "     \n",
    "    def __init__(self, x=0, y=0):\n",
    "        self.x = x\n",
    "        self.y = y\n",
    "        \n",
    "    def move_rocket(self, x_increment=0, y_increment=1):\n",
    "        self.x += x_increment\n",
    "        self.y += y_increment\n",
    "        \n",
    "    def print_rocket(self):\n",
    "        print(self.x, self.y)\n",
    "        \n",
    "roc1 = Rocket()\n",
    "\n",
    "roc1.print_rocket()\n",
    "roc1.move_rocket(10, 15)\n",
    "roc1.print_rocket()\n",
    "print(roc1)"
   ]
  },
  {
   "cell_type": "code",
   "execution_count": 19,
   "metadata": {},
   "outputs": [
    {
     "name": "stdout",
     "output_type": "stream",
     "text": [
      "The phone number is: 9999999999\n",
      "The phone number is: 33333333\n",
      "Name is: Tom\n"
     ]
    }
   ],
   "source": [
    "# Exercício 2 - Crie uma classe chamada Pessoa() com os atributos: nome, cidade, telefone e e-mail. Use pelo menos 2\n",
    "# métodos especiais na sua classe. Crie um objeto da sua classe e faça uma chamada a pelo menos um dos seus métodos\n",
    "# especiais.\n",
    "\n",
    "class Person():\n",
    "    def __init__(self, name, city, phone_number, email):\n",
    "        self.name = name\n",
    "        self.city = city\n",
    "        self.phone_number = phone_number\n",
    "        self.email = email\n",
    "        \n",
    "    def getPhoneNumber(self):\n",
    "        print('The phone number is: %s' %(self.phone_number))\n",
    "        \n",
    "    def getName(self):\n",
    "        print('Name is: %s' %(self.name))\n",
    "        \n",
    "    def setPhoneNumber(self, phone_number):\n",
    "        self.phone_number = phone_number\n",
    "        \n",
    "\n",
    "person_1 = Person('Tom', 'Rio de Janeiro', '9999999999', 'email@email.com')\n",
    "\n",
    "person_1.getPhoneNumber()\n",
    "\n",
    "person_1.setPhoneNumber('33333333')\n",
    "\n",
    "person_1.getPhoneNumber()\n",
    "person_1.getName()"
   ]
  },
  {
   "cell_type": "code",
   "execution_count": 21,
   "metadata": {},
   "outputs": [
    {
     "name": "stdout",
     "output_type": "stream",
     "text": [
      "Tamanho is: 50\n"
     ]
    }
   ],
   "source": [
    "# Exercício 3 - Crie a classe Smartphone com 2 atributos, tamanho e interface e crie a classe MP3Player com os \n",
    "# atributos capacidade. A classe MP3player deve herdar os atributos da classe Smartphone.\n",
    "\n",
    "class Smartphone():\n",
    "    \n",
    "    def __init__(self, tamanho, interface):\n",
    "        self.tamanho = tamanho\n",
    "        self.interface = interface\n",
    "        \n",
    "class Mp3Player(Smartphone):\n",
    "    def __init__(self, capacity, tamanho):\n",
    "        self.capacity = capacity\n",
    "        self.tamanho = tamanho\n",
    "        \n",
    "    def getMp3PlayerTamanho(self):\n",
    "        print('Tamanho is: %s' %(self.tamanho))\n",
    "        \n",
    "object_1 = Mp3Player(10, 50)\n",
    "\n",
    "object_1.getMp3PlayerTamanho()\n"
   ]
  },
  {
   "cell_type": "markdown",
   "metadata": {},
   "source": [
    "### FIM"
   ]
  },
  {
   "cell_type": "markdown",
   "metadata": {},
   "source": [
    "### Obrigado\n",
    "\n",
    "### Visite o Blog da Data Science Academy - <a href=\"http://blog.dsacademy.com.br\">Blog DSA</a>"
   ]
  }
 ],
 "metadata": {
  "kernelspec": {
   "display_name": "Python 3",
   "language": "python",
   "name": "python3"
  },
  "language_info": {
   "codemirror_mode": {
    "name": "ipython",
    "version": 3
   },
   "file_extension": ".py",
   "mimetype": "text/x-python",
   "name": "python",
   "nbconvert_exporter": "python",
   "pygments_lexer": "ipython3",
   "version": "3.8.8"
  }
 },
 "nbformat": 4,
 "nbformat_minor": 1
}
